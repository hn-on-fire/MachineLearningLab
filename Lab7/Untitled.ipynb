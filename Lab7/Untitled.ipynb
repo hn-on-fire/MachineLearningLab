{
 "cells": [
  {
   "cell_type": "code",
   "execution_count": 141,
   "metadata": {},
   "outputs": [],
   "source": [
    "\n",
    "import pandas as pd\n",
    "import numpy as np\n",
    "import matplotlib.pyplot as plt\n",
    "import random"
   ]
  },
  {
   "cell_type": "code",
   "execution_count": 142,
   "metadata": {},
   "outputs": [],
   "source": [
    "df = pd.read_csv('data.csv')"
   ]
  },
  {
   "cell_type": "code",
   "execution_count": 143,
   "metadata": {},
   "outputs": [],
   "source": [
    "X = df.iloc[:,:-1]\n",
    "y = df.iloc[:,-1]"
   ]
  },
  {
   "cell_type": "code",
   "execution_count": 144,
   "metadata": {},
   "outputs": [],
   "source": [
    "sigmoid = lambda x :  np.exp(x)/(1+np.exp(x))\n",
    "score = lambda bias, weights, features : np.dot(weights,features).sum() + bias\n",
    "prediction = lambda bias, weights, features : sigmoid(score(bias,weights,features))\n",
    "def logLoss(bias,weights,features,label):\n",
    "    h = prediction(bias,weights,features)\n",
    "    return -label*np.log(h) - ((1-label)*np.log(1- h))\n",
    "\n",
    "def totalLogLoss(bias,weights,features,labels):\n",
    "    totalError = 0\n",
    "    for i in range(len(features)):\n",
    "        totalError+= logLoss(bias,weights,features.iloc[i],labels.iloc[i])\n",
    "    return totalError"
   ]
  },
  {
   "cell_type": "code",
   "execution_count": 145,
   "metadata": {},
   "outputs": [],
   "source": [
    "def logistic_shift(bias,weights,features,y, n):\n",
    "    h = prediction(bias,weights,features)\n",
    "    for i in range(len(weights)):\n",
    "        weights[i] += (n*(y-h)*features[i])\n",
    "    bias += n*(y-h)\n",
    "    return bias,weights"
   ]
  },
  {
   "cell_type": "code",
   "execution_count": 146,
   "metadata": {},
   "outputs": [],
   "source": [
    "def logistic_regression_algo(features,labels, n, epochs):\n",
    "    weights = np.zeros(len(features.columns))\n",
    "    bias = 0\n",
    "    errors = []\n",
    "    w =[]\n",
    "    w1, w2 =[], []\n",
    "    for _ in range(epochs):\n",
    "        p = random.randint(0,len(features)-1)\n",
    "        bias, weights = logistic_shift(bias,weights,features.iloc[p],labels.iloc[p], n)\n",
    "        errors.append(totalLogLoss(bias,weights,features,labels))\n",
    "        if len(weights) == 2:\n",
    "            w1+=[weights[0]]\n",
    "            w2+=[weights[1]]\n",
    "        else:\n",
    "            w += [weights[0]]\n",
    "    \n",
    "    %matplotlib inline\n",
    "    if len(weights)==2:\n",
    "        plt.scatter(x=w1,y=errors, color='k')\n",
    "        plt.scatter(x=w2,y=errors, color='b')\n",
    "    else: \n",
    "        plt.scatter(x=w,y=errors, color='k')\n",
    "    plt.xlabel(\"Epochs\")\n",
    "    plt.ylabel(\"Error\")\n",
    "    plt.show()\n",
    "    return bias,weights"
   ]
  },
  {
   "cell_type": "code",
   "execution_count": 147,
   "metadata": {},
   "outputs": [],
   "source": [
    "def testRun(X,y,vals):\n",
    "    Error = []\n",
    "    pred = []\n",
    "    wrong = 0\n",
    "    for i in range(len(X)):\n",
    "        h = float(prediction(vals[0],vals[1], X.iloc[i]))\n",
    "        pred+=[h]\n",
    "        p=0\n",
    "        if h>=0.5:\n",
    "            p=1\n",
    "        else:\n",
    "            p=0\n",
    "        if p == float(y.iloc[i]):\n",
    "            Error+=[0]\n",
    "        else:\n",
    "            Error+=[np.abs(h-y.iloc[i])]\n",
    "            wrong += 1\n",
    "    plt.scatter(x = range(X.shape[0]), y = Error)\n",
    "    plt.xlabel('Test')\n",
    "    plt.ylabel('Error')\n",
    "    plt.show()\n",
    "    return (len(X)-wrong)/len(X)"
   ]
  },
  {
   "cell_type": "code",
   "execution_count": 148,
   "metadata": {},
   "outputs": [
    {
     "data": {
      "image/png": "[encoded data removed]",
      "text/plain": [
       "<Figure size 432x288 with 1 Axes>"
      ]
     },
     "metadata": {
      "needs_background": "light"
     },
     "output_type": "display_data"
    },
    {
     "name": "stdout",
     "output_type": "stream",
     "text": [
      "(-0.07637113623755462, array([ 0.48508756, -0.30622914]))\n"
     ]
    },
    {
     "data": {
      "image/png": "[encoded data removed]",
      "text/plain": [
       "<Figure size 432x288 with 1 Axes>"
      ]
     },
     "metadata": {
      "needs_background": "light"
     },
     "output_type": "display_data"
    },
    {
     "name": "stdout",
     "output_type": "stream",
     "text": [
      "0.6\n"
     ]
    }
   ],
   "source": [
    "vals = logistic_regression_algo(X,y,0.1,6)\n",
    "print(vals)\n",
    "acc =testRun(X, y, vals)\n",
    "print(acc)"
   ]
  },
  {
   "cell_type": "code",
   "execution_count": 149,
   "metadata": {},
   "outputs": [
    {
     "name": "stdout",
     "output_type": "stream",
     "text": [
      "(-0.07637113623755462, array([ 0.48508756, -0.30622914]))\n"
     ]
    }
   ],
   "source": [
    "print(vals)"
   ]
  },
  {
   "cell_type": "code",
   "execution_count": 150,
   "metadata": {},
   "outputs": [
    {
     "name": "stdout",
     "output_type": "stream",
     "text": [
      "[0 0 0 0 0 1 1 1 1 1] [0 0 0 0 0 1 1 1 1 1]\n"
     ]
    },
    {
     "name": "stderr",
     "output_type": "stream",
     "text": [
      "/home/student/anaconda3/lib/python3.7/site-packages/sklearn/linear_model/_logistic.py:818: ConvergenceWarning: lbfgs failed to converge (status=1):\n",
      "STOP: TOTAL NO. of ITERATIONS REACHED LIMIT.\n",
      "\n",
      "Increase the number of iterations (max_iter) or scale the data as shown in:\n",
      "    https://scikit-learn.org/stable/modules/preprocessing.html\n",
      "Please also refer to the documentation for alternative solver options:\n",
      "    https://scikit-learn.org/stable/modules/linear_model.html#logistic-regression\n",
      "  extra_warning_msg=_LOGISTIC_SOLVER_CONVERGENCE_MSG,\n"
     ]
    }
   ],
   "source": [
    "from sklearn.linear_model import LogisticRegression\n",
    "clf = LogisticRegression(max_iter=6).fit(X, y)\n",
    "print(clf.predict(X), np.array(y))"
   ]
  },
  {
   "cell_type": "code",
   "execution_count": 151,
   "metadata": {},
   "outputs": [
    {
     "data": {
      "text/plain": [
       "array([[ 0.83230211, -1.16942664]])"
      ]
     },
     "execution_count": 151,
     "metadata": {},
     "output_type": "execute_result"
    }
   ],
   "source": [
    "clf.coef_"
   ]
  },
  {
   "cell_type": "code",
   "execution_count": 152,
   "metadata": {},
   "outputs": [
    {
     "name": "stdout",
     "output_type": "stream",
     "text": [
      "<class 'pandas.core.frame.DataFrame'>\n"
     ]
    }
   ],
   "source": [
    "X = pd.DataFrame(df.iloc[:,0])\n",
    "y = pd.DataFrame(df.iloc[:,-1])\n",
    "print(type(X))"
   ]
  },
  {
   "cell_type": "code",
   "execution_count": 153,
   "metadata": {},
   "outputs": [
    {
     "data": {
      "image/png": "[encoded data removed]",
      "text/plain": [
       "<Figure size 432x288 with 1 Axes>"
      ]
     },
     "metadata": {
      "needs_background": "light"
     },
     "output_type": "display_data"
    },
    {
     "name": "stderr",
     "output_type": "stream",
     "text": [
      "/home/student/anaconda3/lib/python3.7/site-packages/numpy/ma/core.py:2830: VisibleDeprecationWarning: Creating an ndarray from ragged nested sequences (which is a list-or-tuple of lists-or-tuples-or ndarrays with different lengths or shapes) is deprecated. If you meant to do this, you must specify 'dtype=object' when creating the ndarray.\n",
      "  order=order, subok=True, ndmin=ndmin)\n"
     ]
    },
    {
     "data": {
      "image/png": "[encoded data removed]",
      "text/plain": [
       "<Figure size 432x288 with 1 Axes>"
      ]
     },
     "metadata": {
      "needs_background": "light"
     },
     "output_type": "display_data"
    },
    {
     "name": "stdout",
     "output_type": "stream",
     "text": [
      "0.5\n"
     ]
    }
   ],
   "source": [
    "vals = logistic_regression_algo(X,y,0.1,6)\n",
    "acc =testRun(X, y, vals)\n",
    "print(acc)"
   ]
  },
  {
   "cell_type": "code",
   "execution_count": 121,
   "metadata": {},
   "outputs": [
    {
     "name": "stdout",
     "output_type": "stream",
     "text": [
      "(Y   -0.015008\n",
      "Name: 4, dtype: float64, array([0.41618075]))\n"
     ]
    }
   ],
   "source": [
    " "
   ]
  },
  {
   "cell_type": "code",
   "execution_count": null,
   "metadata": {},
   "outputs": [],
   "source": []
  }
 ],
 "metadata": {
  "kernelspec": {
   "display_name": "Python 3",
   "language": "python",
   "name": "python3"
  },
  "language_info": {
   "codemirror_mode": {
    "name": "ipython",
    "version": 3
   },
   "file_extension": ".py",
   "mimetype": "text/x-python",
   "name": "python",
   "nbconvert_exporter": "python",
   "pygments_lexer": "ipython3",
   "version": "3.7.0"
  }
 },
 "nbformat": 4,
 "nbformat_minor": 2
}
