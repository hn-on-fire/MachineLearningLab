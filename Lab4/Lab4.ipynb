{
 "cells": [
  {
   "cell_type": "code",
   "execution_count": 2,
   "metadata": {},
   "outputs": [],
   "source": [
    "import numpy as np\n",
    "import pandas as pd\n",
    "from sklearn.model_selection import train_test_split\n",
    "from sklearn.linear_model import LinearRegression"
   ]
  },
  {
   "cell_type": "code",
   "execution_count": 12,
   "metadata": {},
   "outputs": [
    {
     "name": "stdout",
     "output_type": "stream",
     "text": [
      "Weights:[[675.34365868]] Bias:[-1336226.70426651]\n"
     ]
    }
   ],
   "source": [
    "df = pd .read_csv('data.csv')\n",
    "X = np.array(df['Year']).reshape(-1, 1)\n",
    "y = np.array(df['Average Gold Price']).reshape(-1, 1)\n",
    "regr = LinearRegression()\n",
    "regr.fit(X, y)\n",
    "print(f\"Weights:{regr.coef_} Bias:{regr.intercept_}\")"
   ]
  },
  {
   "cell_type": "code",
   "execution_count": 13,
   "metadata": {},
   "outputs": [
    {
     "name": "stdout",
     "output_type": "stream",
     "text": [
      "Weights[675.343658679135] Bias:-1336226.704266511\n",
      "RMSE:11643768.374343213 MSE:135577341955355.17 2025:3134.4204558737574\n"
     ]
    }
   ],
   "source": [
    "X2 = np.square(X)\n",
    "n = len(X)\n",
    "sX = np.sum(X)\n",
    "sY = np.sum(y)\n",
    "xy = np.multiply(X,y)\n",
    "a = ((np.sum(X2)*sY) - (sX*np.sum(xy)))/(n*np.sum(X2) - np.square(sX))\n",
    "b = (n*np.sum(xy) - sX*sY) /(n*np.sum(X2) - np.square(sX))\n",
    "rmse = lambda yhat,y: np.sqrt(np.mean((yhat-y)**2))\n",
    "mse = lambda yhat,y: np.mean((yhat-y)**2)\n",
    "print(f\"Weights{[b]} Bias:{a}\")\n",
    "yhat = lambda X: a+b*X\n",
    "print(f\"RMSE:{rmse(yhat(y_test), y_test)} MSE:{mse(yhat(y_test),y_test)} 2025:{yhat(2025)/10}\")"
   ]
  },
  {
   "cell_type": "code",
   "execution_count": 37,
   "metadata": {},
   "outputs": [
    {
     "name": "stdout",
     "output_type": "stream",
     "text": [
      "b0:6703.0816599606815, b1:0.020954726752563914, b2:0.3432627295410332\n"
     ]
    }
   ],
   "source": [
    "df.dropna(inplace=True)\n",
    "y = np.array(df['Average Gold Price'])\n",
    "n = len(y)\n",
    "X2 = np.array(df['Average Silver Price'])\n",
    "X1 = np.array(df['Year'])\n",
    "x12 = np.sum(np.square(X1))\n",
    "x22 = np.sum(np.square(X2))\n",
    "x1y = np.sum(np.multiply(X1,y)) - (np.sum(X1)*np.sum(y)/n)\n",
    "x1x2 = np.sum(np.multiply(X1,X2)) - (np.sum(X1)*np.sum(X2)/n)\n",
    "x2y = np.sum(np.multiply(X2, y)) - (np.sum(X2)*np.sum(y)/n)\n",
    "b1 = (x22*x1y-x1x2*x2y)/(x12*x22 - np.square(x1x2))\n",
    "b2 = (x12*x2y-x1x2*x1y)/(x12*x22-np.square(x1x2))\n",
    "b0 = np.mean(y) - b1*np.mean(X1) - b2*np.mean(X2)\n",
    "print(f\"b0:{b0}, b1:{b1}, b2:{b2}\")\n",
    "yhat = lambda x1, x2: b0 + b1*x1 + b2*x2\n"
   ]
  },
  {
   "cell_type": "code",
   "execution_count": 41,
   "metadata": {},
   "outputs": [
    {
     "data": {
      "text/plain": [
       "array([181.22245448,   0.62421745])"
      ]
     },
     "execution_count": 41,
     "metadata": {},
     "output_type": "execute_result"
    }
   ],
   "source": [
    "regr.fit(np.transpose([X1,X2]), y)\n",
    "regr.coef_"
   ]
  },
  {
   "cell_type": "code",
   "execution_count": 39,
   "metadata": {},
   "outputs": [
    {
     "data": {
      "text/plain": [
       "9448.227018054951"
      ]
     },
     "execution_count": 39,
     "metadata": {},
     "output_type": "execute_result"
    }
   ],
   "source": [
    "yhat(2002,7875)"
   ]
  },
  {
   "cell_type": "code",
   "execution_count": null,
   "metadata": {},
   "outputs": [],
   "source": []
  }
 ],
 "metadata": {
  "kernelspec": {
   "display_name": "base",
   "language": "python",
   "name": "python3"
  },
  "language_info": {
   "codemirror_mode": {
    "name": "ipython",
    "version": 3
   },
   "file_extension": ".py",
   "mimetype": "text/x-python",
   "name": "python",
   "nbconvert_exporter": "python",
   "pygments_lexer": "ipython3",
   "version": "3.7.0"
  },
  "orig_nbformat": 4
 },
 "nbformat": 4,
 "nbformat_minor": 2
}
