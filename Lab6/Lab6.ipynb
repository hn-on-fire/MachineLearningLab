{
 "cells": [
  {
   "cell_type": "code",
   "execution_count": 32,
   "metadata": {},
   "outputs": [],
   "source": [
    "import numpy as np\n",
    "import pandas as pd\n",
    "import matplotlib.pyplot as plt"
   ]
  },
  {
   "cell_type": "code",
   "execution_count": 179,
   "metadata": {},
   "outputs": [],
   "source": [
    "df = pd.read_csv('data.csv')\n",
    "class LR:\n",
    "    def __init__(self,X,y, mode = 'LR'):\n",
    "        self.X, self.y, self.mode  = X, y, mode\n",
    "        if mode == 'SLR':\n",
    "            self.w = self.SLR()\n",
    "            self.pred = self.yhat(X,self.w)\n",
    "            self.error = self.mse(self.pred,y)\n",
    "        elif mode == 'sk-SLR':\n",
    "            from sklearn.linear_model import LinearRegression\n",
    "            regr = LinearRegression()\n",
    "            regr.fit(X, y)\n",
    "            self.w = regr.coef_\n",
    "            self.pred = regr.predict(X)\n",
    "            self.error = self.mse(self.pred,y)\n",
    "        elif mode =='SGD':\n",
    "            self.Costs, self.error, self.w = self.SGD([0,0],0.01,5)\n",
    "        elif mode == 'sk-SGD':\n",
    "            from sklearn.linear_model import SGDRegressor\n",
    "            SGDR = SGDRegressor(alpha=1,max_iter=60, learning_rate='constant',eta0 = 0.01)\n",
    "            SGDR.fit(X,y)\n",
    "            self.pred = SGDR.predict(X)\n",
    "            self.w = SGDR.coef_\n",
    "            self.error = self.rmse(self.pred,y)\n",
    "    \n",
    "    yhat = lambda self,X,w : w[0] + w[1]*X\n",
    "    mse = lambda self,yhat,y: np.mean((yhat-y)**2)\n",
    "    rmse = lambda self,yhat,y: np.sqrt(np.mean((yhat-y)**2))\n",
    "    def SLR(self):\n",
    "        X = self.X\n",
    "        y = self.y\n",
    "        X2 = np.square(X)\n",
    "        n = len(X)\n",
    "        sX = np.sum(X)\n",
    "        sY = np.sum(y)\n",
    "        xy = np.multiply(X,y)\n",
    "        a = ((np.sum(X2)*sY) - (sX*np.sum(xy)))/(n*np.sum(X2) - np.square(sX))\n",
    "        b = (n*np.sum(xy) - sX*sY) /(n*np.sum(X2) - np.square(sX))\n",
    "        return (a,b)\n",
    "    \n",
    "    def SGD(self, weights, alpha, epochs):\n",
    "        Costs = [] \n",
    "        for _ in range(epochs):   \n",
    "            hypo = self.yhat(X,weights)\n",
    "            weights[0], weights[1] = weights[0] - 2*alpha*sum((hypo-y)*X/len(X)), weights[1] - 2*alpha*sum(hypo-y)\n",
    "            cost = self.rmse(hypo, y)\n",
    "            Costs.append(cost)\n",
    "        return Costs, cost, weights"
   ]
  },
  {
   "cell_type": "code",
   "execution_count": 153,
   "metadata": {},
   "outputs": [],
   "source": [
    "X = np.array(df['salary']).reshape(-1,1)\n",
    "y =  np.array(df[' experience']).reshape(-1,1)\n",
    "a = LR(X,y, 'SLR')\n",
    "w = [(1.1,0.1), (1.1,1.5), (1.1,0.8)]\n",
    "mse =[]\n",
    "for weight in w:\n",
    "    mse += [a.mse(a.yhat(a.X,weight), a.y)]"
   ]
  },
  {
   "cell_type": "code",
   "execution_count": 154,
   "metadata": {},
   "outputs": [
    {
     "data": {
      "text/plain": [
       "<matplotlib.collections.PathCollection at 0x7f2fbbae76a0>"
      ]
     },
     "execution_count": 154,
     "metadata": {},
     "output_type": "execute_result"
    },
    {
     "data": {
      "image/png": "[encoded data removed]",
      "text/plain": [
       "<Figure size 432x288 with 1 Axes>"
      ]
     },
     "metadata": {
      "needs_background": "light"
     },
     "output_type": "display_data"
    }
   ],
   "source": [
    "plt.scatter([0.1,1.5,0.8], mse, color = 'b')"
   ]
  },
  {
   "cell_type": "code",
   "execution_count": 155,
   "metadata": {},
   "outputs": [
    {
     "name": "stdout",
     "output_type": "stream",
     "text": [
      "SLR\n"
     ]
    }
   ],
   "source": [
    "print(a.mode)\n",
    "beta= np.arange(0,1.51,0.01)\n",
    "mse = []\n",
    "for b in beta:\n",
    "    mse += [a.mse(a.yhat(a.X,[b, a.w[1]]), a.y)]"
   ]
  },
  {
   "cell_type": "code",
   "execution_count": 156,
   "metadata": {},
   "outputs": [
    {
     "data": {
      "text/plain": [
       "<matplotlib.collections.PathCollection at 0x7f2fbb9e4ba8>"
      ]
     },
     "execution_count": 156,
     "metadata": {},
     "output_type": "execute_result"
    },
    {
     "data": {
      "image/png": "[encoded data removed]",
      "text/plain": [
       "<Figure size 432x288 with 1 Axes>"
      ]
     },
     "metadata": {
      "needs_background": "light"
     },
     "output_type": "display_data"
    }
   ],
   "source": [
    "plt.scatter(beta, mse, color = 'b')"
   ]
  },
  {
   "cell_type": "code",
   "execution_count": 157,
   "metadata": {},
   "outputs": [],
   "source": [
    "mse =[]\n",
    "for b in beta:\n",
    "    mse += [a.mse(a.yhat(a.X,[a.w[0],b ]), a.y)]"
   ]
  },
  {
   "cell_type": "code",
   "execution_count": 158,
   "metadata": {},
   "outputs": [
    {
     "data": {
      "text/plain": [
       "<matplotlib.collections.PathCollection at 0x7f2fbb97c4e0>"
      ]
     },
     "execution_count": 158,
     "metadata": {},
     "output_type": "execute_result"
    },
    {
     "data": {
      "image/png": "[encoded data removed]",
      "text/plain": [
       "<Figure size 432x288 with 1 Axes>"
      ]
     },
     "metadata": {
      "needs_background": "light"
     },
     "output_type": "display_data"
    }
   ],
   "source": [
    "plt.scatter(beta, mse, color = 'b')"
   ]
  },
  {
   "cell_type": "code",
   "execution_count": 169,
   "metadata": {},
   "outputs": [
    {
     "name": "stdout",
     "output_type": "stream",
     "text": [
      "5.551115123125783e-17\n"
     ]
    }
   ],
   "source": [
    "print(LR(X,y,'SLR').error - LR(X,y,'sk-SLR').error)"
   ]
  },
  {
   "cell_type": "code",
   "execution_count": 174,
   "metadata": {},
   "outputs": [],
   "source": [
    "a = LR(X,y,'SGD')"
   ]
  },
  {
   "cell_type": "code",
   "execution_count": 175,
   "metadata": {},
   "outputs": [
    {
     "name": "stdout",
     "output_type": "stream",
     "text": [
      "0.2943269015726913\n"
     ]
    },
    {
     "data": {
      "text/plain": [
       "<matplotlib.collections.PathCollection at 0x7f2fbb7b7dd8>"
      ]
     },
     "execution_count": 175,
     "metadata": {},
     "output_type": "execute_result"
    },
    {
     "data": {
      "image/png": "[encoded data removed]",
      "text/plain": [
       "<Figure size 432x288 with 1 Axes>"
      ]
     },
     "metadata": {
      "needs_background": "light"
     },
     "output_type": "display_data"
    }
   ],
   "source": [
    "xax = range(0,5)\n",
    "print(a.error)\n",
    "plt.scatter(xax,a.Costs, color='b')"
   ]
  },
  {
   "cell_type": "code",
   "execution_count": 181,
   "metadata": {},
   "outputs": [
    {
     "name": "stderr",
     "output_type": "stream",
     "text": [
      "/home/student/anaconda3/lib/python3.7/site-packages/sklearn/utils/validation.py:993: DataConversionWarning: A column-vector y was passed when a 1d array was expected. Please change the shape of y to (n_samples, ), for example using ravel().\n",
      "  y = column_or_1d(y, warn=True)\n"
     ]
    },
    {
     "data": {
      "text/plain": [
       "1.3523458821991667"
      ]
     },
     "execution_count": 181,
     "metadata": {},
     "output_type": "execute_result"
    }
   ],
   "source": [
    "a = LR(X,y,'sk-SGD')\n",
    "a.error"
   ]
  },
  {
   "cell_type": "code",
   "execution_count": null,
   "metadata": {},
   "outputs": [],
   "source": []
  },
  {
   "cell_type": "code",
   "execution_count": null,
   "metadata": {},
   "outputs": [],
   "source": []
  }
 ],
 "metadata": {
  "kernelspec": {
   "display_name": "Python 3",
   "language": "python",
   "name": "python3"
  },
  "language_info": {
   "codemirror_mode": {
    "name": "ipython",
    "version": 3
   },
   "file_extension": ".py",
   "mimetype": "text/x-python",
   "name": "python",
   "nbconvert_exporter": "python",
   "pygments_lexer": "ipython3",
   "version": "3.7.0"
  }
 },
 "nbformat": 4,
 "nbformat_minor": 2
}
