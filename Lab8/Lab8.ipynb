{
 "cells": [
  {
   "cell_type": "code",
   "execution_count": 22,
   "metadata": {},
   "outputs": [],
   "source": [
    "import numpy as np\n",
    "import pandas as pd"
   ]
  },
  {
   "cell_type": "code",
   "execution_count": 15,
   "metadata": {},
   "outputs": [],
   "source": [
    "probs = {\"H\":60, \"S\": 40, \"AH\": 30, \"AS\": 20}"
   ]
  },
  {
   "cell_type": "code",
   "execution_count": 16,
   "metadata": {},
   "outputs": [
    {
     "data": {
      "text/plain": [
       "0.6923076923076923"
      ]
     },
     "execution_count": 16,
     "metadata": {},
     "output_type": "execute_result"
    }
   ],
   "source": [
    "probs[\"HA\"] = probs[\"AH\"]*probs['H']/(probs['AH']*probs['H'] + probs['AS']*probs['S'])\n",
    "probs['HA']"
   ]
  },
  {
   "cell_type": "code",
   "execution_count": 20,
   "metadata": {},
   "outputs": [
    {
     "data": {
      "text/plain": [
       "0.3333333333333333"
      ]
     },
     "execution_count": 20,
     "metadata": {},
     "output_type": "execute_result"
    }
   ],
   "source": [
    "probs = {\"D\" : 0.01, \"PD\" : .99, \"FD\" : .02 }\n",
    "probs[\"DP\"] = probs['PD']*probs[\"D\"]/(probs[\"PD\"]*probs[\"D\"] + probs[\"FD\"]*(1-probs[\"D\"]))\n",
    "                                      \n",
    "probs[\"DP\"]"
   ]
  },
  {
   "cell_type": "code",
   "execution_count": 23,
   "metadata": {},
   "outputs": [],
   "source": [
    "df = pd.read_csv('play.csv')"
   ]
  },
  {
   "cell_type": "code",
   "execution_count": 30,
   "metadata": {},
   "outputs": [],
   "source": [
    "c = df['Outlook'].value_counts()"
   ]
  },
  {
   "cell_type": "code",
   "execution_count": 33,
   "metadata": {},
   "outputs": [],
   "source": [
    "tot = df['Outlook'].count()"
   ]
  },
  {
   "cell_type": "code",
   "execution_count": 39,
   "metadata": {},
   "outputs": [
    {
     "data": {
      "text/plain": [
       "Yes    10\n",
       "No      4\n",
       "Name: Play, dtype: int64"
      ]
     },
     "execution_count": 39,
     "metadata": {},
     "output_type": "execute_result"
    }
   ],
   "source": [
    "r = df['Play'].value_counts()\n",
    "r"
   ]
  },
  {
   "cell_type": "code",
   "execution_count": 65,
   "metadata": {},
   "outputs": [],
   "source": [
    "s = 0\n",
    "dev = 0\n",
    "n = 0\n",
    "for i in range(len(df.iloc[:,0])):\n",
    "    if df['Outlook'][i] == 'Sunny':\n",
    "        dev+=1\n",
    "        if df[\"Play\"][i] == 'Yes':\n",
    "            s+=1\n",
    "        n+=1"
   ]
  },
  {
   "cell_type": "code",
   "execution_count": 69,
   "metadata": {},
   "outputs": [],
   "source": [
    "playSunny = (s/dev * (r['Yes']/tot))/(s/dev * (r['Yes']/tot) + ((n/dev)*(r['No']/tot)))"
   ]
  },
  {
   "cell_type": "code",
   "execution_count": 70,
   "metadata": {},
   "outputs": [
    {
     "data": {
      "text/plain": [
       "0.6000000000000001"
      ]
     },
     "execution_count": 70,
     "metadata": {},
     "output_type": "execute_result"
    }
   ],
   "source": [
    "playSunny"
   ]
  },
  {
   "cell_type": "code",
   "execution_count": 71,
   "metadata": {},
   "outputs": [],
   "source": [
    "df = pd.read_csv('sentiment.csv')"
   ]
  },
  {
   "cell_type": "code",
   "execution_count": 77,
   "metadata": {},
   "outputs": [],
   "source": [
    "pos_vocab = {}\n",
    "neg_vocab = {}\n",
    "vocab ={}\n",
    "for i in range(len(df.iloc[:,0])):\n",
    "    y = df.iloc[i, 0].split()\n",
    "    for s in y:\n",
    "        vocab[s] = 1 if s not in vocab.keys() else vocab[s]+1\n",
    "        if df.iloc[i,1] == 'neg':\n",
    "            neg_vocab[s] = 1 if s not in neg_vocab.keys() else neg_vocab[s]+1\n",
    "        else:\n",
    "            pos_vocab[s] = 1 if s not in pos_vocab.keys() else pos_vocab[s]+1\n",
    "\n",
    "    "
   ]
  },
  {
   "cell_type": "code",
   "execution_count": 83,
   "metadata": {},
   "outputs": [],
   "source": [
    "s = \"this is a great place\"\n",
    "s = s.split()\n",
    "s_pos = 1\n",
    "s_neg = 1\n",
    "for t in s:\n",
    "    if t in neg_vocab.keys():\n",
    "        s_neg *= (neg_vocab[t]/vocab[t])\n",
    "    if t in pos_vocab.keys():\n",
    "        s_pos *= (pos_vocab[t]/vocab[t])"
   ]
  },
  {
   "cell_type": "code",
   "execution_count": 84,
   "metadata": {},
   "outputs": [
    {
     "data": {
      "text/plain": [
       "(0.049999999999999996, 0.06666666666666667)"
      ]
     },
     "execution_count": 84,
     "metadata": {},
     "output_type": "execute_result"
    }
   ],
   "source": [
    "s_neg, s_pos"
   ]
  },
  {
   "cell_type": "code",
   "execution_count": null,
   "metadata": {},
   "outputs": [],
   "source": []
  }
 ],
 "metadata": {
  "kernelspec": {
   "display_name": "Python 3",
   "language": "python",
   "name": "python3"
  },
  "language_info": {
   "codemirror_mode": {
    "name": "ipython",
    "version": 3
   },
   "file_extension": ".py",
   "mimetype": "text/x-python",
   "name": "python",
   "nbconvert_exporter": "python",
   "pygments_lexer": "ipython3",
   "version": "3.7.0"
  }
 },
 "nbformat": 4,
 "nbformat_minor": 2
}
